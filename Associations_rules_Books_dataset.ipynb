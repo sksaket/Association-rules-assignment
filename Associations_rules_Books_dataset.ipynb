{
  "nbformat": 4,
  "nbformat_minor": 0,
  "metadata": {
    "colab": {
      "name": "Associations rules - Books dataset.ipynb",
      "provenance": [],
      "authorship_tag": "ABX9TyNi+I7m9SFGWFPTOlfciFOZ",
      "include_colab_link": true
    },
    "kernelspec": {
      "name": "python3",
      "display_name": "Python 3"
    },
    "language_info": {
      "name": "python"
    }
  },
  "cells": [
    {
      "cell_type": "markdown",
      "metadata": {
        "id": "view-in-github",
        "colab_type": "text"
      },
      "source": [
        "<a href=\"https://colab.research.google.com/github/sksaket/Association-rules-assignment/blob/main/Associations_rules_Books_dataset.ipynb\" target=\"_parent\"><img src=\"https://colab.research.google.com/assets/colab-badge.svg\" alt=\"Open In Colab\"/></a>"
      ]
    },
    {
      "cell_type": "code",
      "metadata": {
        "id": "qZwz4zZr0ug7"
      },
      "source": [
        "import numpy as np\n",
        "import pandas as pd\n",
        "import matplotlib.pyplot as plt"
      ],
      "execution_count": 16,
      "outputs": []
    },
    {
      "cell_type": "code",
      "metadata": {
        "id": "4GpGcUIM0wos"
      },
      "source": [
        "book=pd.read_csv('/content/book.csv')"
      ],
      "execution_count": 17,
      "outputs": []
    },
    {
      "cell_type": "code",
      "metadata": {
        "colab": {
          "base_uri": "https://localhost:8080/",
          "height": 333
        },
        "id": "BHsJyrrd0xGx",
        "outputId": "b2fb8f96-b20c-4eb1-e4bb-6987755a4878"
      },
      "source": [
        "#Apriori Algorithm\n",
        "from mlxtend.frequent_patterns import apriori,association_rules\n",
        "frequent_itemsets=apriori(book,min_support=0.05,use_colnames=True,max_len=3)\n",
        "plt.bar(x = list(range(1,11)),height = frequent_itemsets.support[1:11],color='rgmyk');plt.xticks(list(range(1,11)),frequent_itemsets.itemsets[1:11])\n",
        "plt.xlabel('item-sets');plt.ylabel('support')\n",
        "\n",
        "rules=association_rules(frequent_itemsets,metric='lift',min_threshold=1)"
      ],
      "execution_count": 18,
      "outputs": [
        {
          "output_type": "stream",
          "name": "stderr",
          "text": [
            "/usr/local/lib/python3.7/dist-packages/ipykernel_launcher.py:4: MatplotlibDeprecationWarning: Using a string of single character colors as a color sequence is deprecated. Use an explicit list instead.\n",
            "  after removing the cwd from sys.path.\n"
          ]
        },
        {
          "output_type": "display_data",
          "data": {
            "image/png": "[encoded data removed]",
            "text/plain": [
              "<Figure size 432x288 with 1 Axes>"
            ]
          },
          "metadata": {
            "needs_background": "light"
          }
        }
      ]
    },
    {
      "cell_type": "markdown",
      "metadata": {
        "id": "goJSPIgG1LT_"
      },
      "source": [
        "# To eliminate Redudancy in Rules"
      ]
    },
    {
      "cell_type": "code",
      "metadata": {
        "id": "l_X5U52Y0xI6"
      },
      "source": [
        "def to_list(i):\n",
        "    return (sorted(list(i)))"
      ],
      "execution_count": 19,
      "outputs": []
    },
    {
      "cell_type": "code",
      "metadata": {
        "id": "Vd6aNxZR0xLO"
      },
      "source": [
        "ma_X = rules.antecedents.apply(to_list)+rules.consequents.apply(to_list)"
      ],
      "execution_count": 20,
      "outputs": []
    },
    {
      "cell_type": "code",
      "metadata": {
        "id": "dsjRyU_R0xOW"
      },
      "source": [
        "ma_X = ma_X.apply(sorted)"
      ],
      "execution_count": 21,
      "outputs": []
    },
    {
      "cell_type": "code",
      "metadata": {
        "id": "-TOIriGu0xQS"
      },
      "source": [
        "rules_sets = list(ma_X)"
      ],
      "execution_count": 22,
      "outputs": []
    },
    {
      "cell_type": "code",
      "metadata": {
        "id": "fNdbMSfB0xtX"
      },
      "source": [
        "unique_rules_sets = [list(m) for m in set(tuple(i) for i in rules_sets)]\n",
        "index_rules = []\n",
        "for i in unique_rules_sets:\n",
        "    index_rules.append(rules_sets.index(i))"
      ],
      "execution_count": 23,
      "outputs": []
    },
    {
      "cell_type": "code",
      "metadata": {
        "id": "lPkwlSGw0xva"
      },
      "source": [
        "# getting rules without any redudancy \n",
        "rules_no_redudancy  = rules.iloc[index_rules,:]"
      ],
      "execution_count": 24,
      "outputs": []
    },
    {
      "cell_type": "code",
      "metadata": {
        "colab": {
          "base_uri": "https://localhost:8080/",
          "height": 357
        },
        "id": "-Xv1Kc0o0xxd",
        "outputId": "27a7f206-4dd1-431b-f2bf-e01f0928848b"
      },
      "source": [
        "# Sorting them with respect to list and getting top 10 rules \n",
        "rules_no_redudancy.sort_values('lift',ascending=False).head(10)"
      ],
      "execution_count": 25,
      "outputs": [
        {
          "output_type": "execute_result",
          "data": {
            "text/html": [
              "<div>\n",
              "<style scoped>\n",
              "    .dataframe tbody tr th:only-of-type {\n",
              "        vertical-align: middle;\n",
              "    }\n",
              "\n",
              "    .dataframe tbody tr th {\n",
              "        vertical-align: top;\n",
              "    }\n",
              "\n",
              "    .dataframe thead th {\n",
              "        text-align: right;\n",
              "    }\n",
              "</style>\n",
              "<table border=\"1\" class=\"dataframe\">\n",
              "  <thead>\n",
              "    <tr style=\"text-align: right;\">\n",
              "      <th></th>\n",
              "      <th>antecedents</th>\n",
              "      <th>consequents</th>\n",
              "      <th>antecedent support</th>\n",
              "      <th>consequent support</th>\n",
              "      <th>support</th>\n",
              "      <th>confidence</th>\n",
              "      <th>lift</th>\n",
              "      <th>leverage</th>\n",
              "      <th>conviction</th>\n",
              "    </tr>\n",
              "  </thead>\n",
              "  <tbody>\n",
              "    <tr>\n",
              "      <th>264</th>\n",
              "      <td>(CookBks, GeogBks)</td>\n",
              "      <td>(ItalCook)</td>\n",
              "      <td>0.1925</td>\n",
              "      <td>0.1135</td>\n",
              "      <td>0.0640</td>\n",
              "      <td>0.332468</td>\n",
              "      <td>2.929229</td>\n",
              "      <td>0.042151</td>\n",
              "      <td>1.328025</td>\n",
              "    </tr>\n",
              "    <tr>\n",
              "      <th>34</th>\n",
              "      <td>(CookBks)</td>\n",
              "      <td>(ItalCook)</td>\n",
              "      <td>0.4310</td>\n",
              "      <td>0.1135</td>\n",
              "      <td>0.1135</td>\n",
              "      <td>0.263341</td>\n",
              "      <td>2.320186</td>\n",
              "      <td>0.064582</td>\n",
              "      <td>1.203406</td>\n",
              "    </tr>\n",
              "    <tr>\n",
              "      <th>282</th>\n",
              "      <td>(GeogBks, DoItYBks)</td>\n",
              "      <td>(ArtBks)</td>\n",
              "      <td>0.1325</td>\n",
              "      <td>0.2410</td>\n",
              "      <td>0.0730</td>\n",
              "      <td>0.550943</td>\n",
              "      <td>2.286072</td>\n",
              "      <td>0.041067</td>\n",
              "      <td>1.690210</td>\n",
              "    </tr>\n",
              "    <tr>\n",
              "      <th>222</th>\n",
              "      <td>(CookBks, DoItYBks)</td>\n",
              "      <td>(ArtBks)</td>\n",
              "      <td>0.1875</td>\n",
              "      <td>0.2410</td>\n",
              "      <td>0.1015</td>\n",
              "      <td>0.541333</td>\n",
              "      <td>2.246196</td>\n",
              "      <td>0.056313</td>\n",
              "      <td>1.654797</td>\n",
              "    </tr>\n",
              "    <tr>\n",
              "      <th>210</th>\n",
              "      <td>(GeogBks, YouthBks)</td>\n",
              "      <td>(ArtBks)</td>\n",
              "      <td>0.1205</td>\n",
              "      <td>0.2410</td>\n",
              "      <td>0.0650</td>\n",
              "      <td>0.539419</td>\n",
              "      <td>2.238253</td>\n",
              "      <td>0.035960</td>\n",
              "      <td>1.647919</td>\n",
              "    </tr>\n",
              "    <tr>\n",
              "      <th>252</th>\n",
              "      <td>(CookBks, GeogBks)</td>\n",
              "      <td>(ArtBks)</td>\n",
              "      <td>0.1925</td>\n",
              "      <td>0.2410</td>\n",
              "      <td>0.1035</td>\n",
              "      <td>0.537662</td>\n",
              "      <td>2.230964</td>\n",
              "      <td>0.057107</td>\n",
              "      <td>1.641657</td>\n",
              "    </tr>\n",
              "    <tr>\n",
              "      <th>162</th>\n",
              "      <td>(CookBks, YouthBks)</td>\n",
              "      <td>(RefBks)</td>\n",
              "      <td>0.1620</td>\n",
              "      <td>0.2145</td>\n",
              "      <td>0.0775</td>\n",
              "      <td>0.478395</td>\n",
              "      <td>2.230280</td>\n",
              "      <td>0.042751</td>\n",
              "      <td>1.505929</td>\n",
              "    </tr>\n",
              "    <tr>\n",
              "      <th>192</th>\n",
              "      <td>(YouthBks, DoItYBks)</td>\n",
              "      <td>(ArtBks)</td>\n",
              "      <td>0.1155</td>\n",
              "      <td>0.2410</td>\n",
              "      <td>0.0600</td>\n",
              "      <td>0.519481</td>\n",
              "      <td>2.155521</td>\n",
              "      <td>0.032164</td>\n",
              "      <td>1.579541</td>\n",
              "    </tr>\n",
              "    <tr>\n",
              "      <th>246</th>\n",
              "      <td>(CookBks, GeogBks)</td>\n",
              "      <td>(RefBks)</td>\n",
              "      <td>0.1925</td>\n",
              "      <td>0.2145</td>\n",
              "      <td>0.0890</td>\n",
              "      <td>0.462338</td>\n",
              "      <td>2.155420</td>\n",
              "      <td>0.047709</td>\n",
              "      <td>1.460954</td>\n",
              "    </tr>\n",
              "    <tr>\n",
              "      <th>186</th>\n",
              "      <td>(RefBks, YouthBks)</td>\n",
              "      <td>(DoItYBks)</td>\n",
              "      <td>0.0965</td>\n",
              "      <td>0.2820</td>\n",
              "      <td>0.0580</td>\n",
              "      <td>0.601036</td>\n",
              "      <td>2.131334</td>\n",
              "      <td>0.030787</td>\n",
              "      <td>1.799662</td>\n",
              "    </tr>\n",
              "  </tbody>\n",
              "</table>\n",
              "</div>"
            ],
            "text/plain": [
              "              antecedents consequents  ...  leverage  conviction\n",
              "264    (CookBks, GeogBks)  (ItalCook)  ...  0.042151    1.328025\n",
              "34              (CookBks)  (ItalCook)  ...  0.064582    1.203406\n",
              "282   (GeogBks, DoItYBks)    (ArtBks)  ...  0.041067    1.690210\n",
              "222   (CookBks, DoItYBks)    (ArtBks)  ...  0.056313    1.654797\n",
              "210   (GeogBks, YouthBks)    (ArtBks)  ...  0.035960    1.647919\n",
              "252    (CookBks, GeogBks)    (ArtBks)  ...  0.057107    1.641657\n",
              "162   (CookBks, YouthBks)    (RefBks)  ...  0.042751    1.505929\n",
              "192  (YouthBks, DoItYBks)    (ArtBks)  ...  0.032164    1.579541\n",
              "246    (CookBks, GeogBks)    (RefBks)  ...  0.047709    1.460954\n",
              "186    (RefBks, YouthBks)  (DoItYBks)  ...  0.030787    1.799662\n",
              "\n",
              "[10 rows x 9 columns]"
            ]
          },
          "metadata": {},
          "execution_count": 25
        }
      ]
    }
  ]
}